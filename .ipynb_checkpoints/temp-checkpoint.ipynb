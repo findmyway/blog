{
 "worksheets": [
  {
   "cells": [
    {
     "cell_type": "code",
     "metadata": {},
     "outputs": [],
     "input": [
      "access_key = 'GCg6dv0xlEYUHZsKBHCQDL2gXhNWDTiEOc7oZXWl'\n",
      "secret_key = 'ETxKm9zEvPmZ7b_tivGlrGw35mxV2d7AsDg_Pdwy'\n",
      "bucket_name = 'ontheroad'\n",
      "\n",
      "from qiniu import Auth\n",
      "import qiniu    \n",
      "q = Auth(access_key, secret_key)\n",
      "\n",
      "f = open('/home/tianjun/desktop/Summertime Sadness-Lana Del Rey.mp3', 'rb')\n",
      "key = 'v.jpg'\n",
      "\n",
      "token = q.upload_token(bucket_name, key)\n",
      "ret, info = qiniu.put_data(token, key, f)\n",
      "\n",
      "f.close()\n",
      "print type(info.exception)\n",
      "print info"
     ],
     "language": "python"
    },
    {
     "cell_type": "code",
     "metadata": {},
     "outputs": [],
     "input": [
      "# process evernote\n",
      "evernote_token = 'S=s1:U=900b3:E=151aa08d276:C=14a5257a3f8:P=1cd:A=en-devtoken:V=2:H=595aa77a7a838126fa5a2d9fc515e3df'\n",
      "\n",
      "client = EvernoteClient(token=evernote_token)\n",
      "noteStore = client.get_note_store()\n",
      "userStore = client.get_user_store()\n",
      "\n",
      "\n",
      "notebooks = noteStore.listNotebooks()\n",
      "target_book_guid = None\n",
      "for n in notebooks:\n",
      "    if n.name == target_book:\n",
      "        target_book_guid = n.guid\n",
      "        break\n",
      "filter = NoteStore.NoteFilter()\n",
      "filter.notebookGuid = target_book_guid\n",
      "spec = NoteStore.NotesMetadataResultSpec()\n",
      "spec.includeUpdated = True\n",
      "mylist = noteStore.findNotesMetadata(evernote_token, filter, 0, 10000, spec)\n",
      "\n",
      "print mylist.notes"
     ],
     "language": "python"
    },
    {
     "cell_type": "code",
     "metadata": {},
     "outputs": [],
     "input": [
      ""
     ],
     "language": "python"
    }
   ]
  }
 ],
 "cells": [],
 "metadata": {
  "name": ""
 },
 "nbformat": 3,
 "nbformat_minor": 0
}